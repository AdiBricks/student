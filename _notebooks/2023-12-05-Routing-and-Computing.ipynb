{
 "cells": [
  {
   "cell_type": "markdown",
   "metadata": {},
   "source": [
    "---\n",
    "toc: true\n",
    "comments: true\n",
    "layout: post\n",
    "title: Routing and Computing HW\n",
    "description: Big Idea 4.2 Student Teaching | Devadharson Sasikumar, Sri Surapaneni,Soham Kulkarni, Jonathan Liu\n",
    "type: hacks\n",
    "courses: { csp: {week: 15} }\n",
    "---"
   ]
  },
  {
   "cell_type": "markdown",
   "metadata": {},
   "source": [
    "## Homework Questions\n",
    " 1. Question 1: What is parallel computing?\n",
    " Parallel Computing means to use multiple processors or cores to execute a single program simultaneously.\n",
    " 2. Question 2: If there is a computer with 3 cores that can each take one task, and the tasks are 25ms, 632ms and 100ms in run time respectively, how long will the program take to run?\n",
    " Since the computer can technically take all 3 tasks at once, it would take as long as the slowest task. So, since the slowest task here takes a total of 632 ms, to finish all the tasks would take that same amount of time. \n",
    " 3. Question 3: Is sequential or parallel computing more efficient, and why?\n",
    " Reaslitically, the average human has multiple programs and softwares running on their computer (maybe while rendering smth on a 3d modeling software your working on homework or playing a video game), and therefore would require parallel computing to have an app running the background. Sequential just is more straighforward, and is easy to resolve bugs or errors with. \n",
    " 4. What is the term called when a network has multiple paths leading up to one destination? (Used in fault-tolerant systems)\n",
    " If it has multiple paths, its usually considered \"redundant\", allowing it to transmit all the data it needs to in the fastest manner (by checking which way is the best to send information). \n",
    " 5. Question 5: Using the image above, is this fault tolerant?\n",
    " The image above HAS a fault tolerant network. If you cut any wire, there would still be one way for the two of the wire you cut, to still comunicate. For example, if you cut a wire AE, you can stil travel from A to E, by going through B. So if line AE has faulty internet, or is corrrupted in come way, it can reroute through A to B, and B to E, as that would be faster. "
   ]
  },
  {
   "cell_type": "code",
   "execution_count": 1,
   "metadata": {},
   "outputs": [
    {
     "name": "stdout",
     "output_type": "stream",
     "text": [
      "Fun Fact about Routing: BGP (Border Gateway Protocol) is a key protocol used in internet routing.\n",
      "Fun Fact about Computing: The first computer programmer was Ada Lovelace, who wrote the first algorithm for Charles Babbage's Analytical Engine.\n"
     ]
    }
   ],
   "source": [
    "import random\n",
    "\n",
    "def get_routing_fact():\n",
    "    routing_facts = [\n",
    "        \"The shortest path algorithm used in routing is Dijkstra's algorithm.\",\n",
    "        \"BGP (Border Gateway Protocol) is a key protocol used in internet routing.\",\n",
    "        \"Routing tables are used by routers to determine the best path for packet forwarding.\",\n",
    "        \"OSPF (Open Shortest Path First) is a popular interior gateway protocol for routing within a single autonomous system.\"\n",
    "    ]\n",
    "    return random.choice(routing_facts)\n",
    "\n",
    "def get_computing_fact():\n",
    "    computing_facts = [\n",
    "        \"The first computer programmer was Ada Lovelace, who wrote the first algorithm for Charles Babbage's Analytical Engine.\",\n",
    "        \"A quantum computer uses qubits, which can exist in multiple states simultaneously due to superposition.\",\n",
    "        \"Moore's Law states that the number of transistors on a microchip doubles approximately every two years.\",\n",
    "        \"The ENIAC (Electronic Numerical Integrator and Computer) was one of the earliest general-purpose electronic digital computers.\"\n",
    "    ]\n",
    "    return random.choice(computing_facts)\n",
    "\n",
    "def main():\n",
    "    routing_fact = get_routing_fact()\n",
    "    computing_fact = get_computing_fact()\n",
    "\n",
    "    print(\"Fun Fact about Routing: {}\".format(routing_fact))\n",
    "    print(\"Fun Fact about Computing: {}\".format(computing_fact))\n",
    "\n",
    "if __name__ == \"__main__\":\n",
    "    main()\n",
    "\n",
    "\n"
   ]
  }
 ],
 "metadata": {
  "kernelspec": {
   "display_name": "Python 3",
   "language": "python",
   "name": "python3"
  },
  "language_info": {
   "codemirror_mode": {
    "name": "ipython",
    "version": 3
   },
   "file_extension": ".py",
   "mimetype": "text/x-python",
   "name": "python",
   "nbconvert_exporter": "python",
   "pygments_lexer": "ipython3",
   "version": "3.10.12"
  },
  "orig_nbformat": 4
 },
 "nbformat": 4,
 "nbformat_minor": 2
}
