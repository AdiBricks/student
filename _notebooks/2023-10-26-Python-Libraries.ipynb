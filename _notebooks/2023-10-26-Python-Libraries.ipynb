{
 "cells": [
  {
   "cell_type": "markdown",
   "metadata": {},
   "source": [
    "---\n",
    "toc: true\n",
    "comments: true\n",
    "layout: post\n",
    "title: Student Lesson Python Libraries\n",
    "description: To teach the class how to use public Python libraries around the internet\n",
    "type: hacks\n",
    "courses: { csp: {week: 10} }\n",
    "---"
   ]
  },
  {
   "cell_type": "markdown",
   "metadata": {},
   "source": [
    "### What is a Library?\n",
    "Essentially a list of pre-written code that you can use to streamline and clean up your program.\n",
    "\n",
    "Libraries can help simplify complex programs\n",
    "\n",
    "APIS are specifications for how the procedures in a library behave, and how they can be used \n",
    "\n",
    "Documentations for an API/library is necessary in understanding the behaviors provided by the API/library and how to use them\n",
    "\n",
    "Libraries that we will go over: Requests, Pillow, Pandas, Numpy, Scikit-Learn, TensorFlow, matplotlib.\n"
   ]
  },
  {
   "cell_type": "markdown",
   "metadata": {},
   "source": [
    "### Required Installations\n",
    "Please run the following commands in your vscode terminal in order to continue the lesson\n",
    "- pip install numpy\n",
    "- pip install matplotlib\n",
    "- pip install scikit-learn\n",
    "- pip install pillow\n",
    "- pip install pandas\n",
    "- pip install tensorflow\n",
    "- pip install requests"
   ]
  },
  {
   "cell_type": "code",
   "execution_count": null,
   "metadata": {},
   "outputs": [],
   "source": []
  },
  {
   "cell_type": "markdown",
   "metadata": {},
   "source": [
    "### Images using requests and pillow libraries\n",
    "'Requests' is focused on handling HTTP requests and web data while 'Pillow' is designed for data manipulation and analysis\n",
    "It's common to see them used together in data-related assignments where data is fetched by HTTP requests using Requests and then processed and analyzed with Pandas.\n",
    "\n",
    "Here's an example:"
   ]
  },
  {
   "cell_type": "code",
   "execution_count": 1,
   "metadata": {},
   "outputs": [
    {
     "name": "stdout",
     "output_type": "stream",
     "text": [
      "Failed to download image. Status code: 404\n"
     ]
    }
   ],
   "source": [
    "import requests\n",
    "from PIL import Image\n",
    "from io import BytesIO\n",
    "\n",
    "# Step 1: Download an image using Requests\n",
    "image_url = \"https://example.com/path/to/your/image.jpg\"  # Replace with the actual URL of the image you want to download\n",
    "response = requests.get(image_url)\n",
    "\n",
    "if response.status_code == 200:\n",
    "    # Step 2: Process the downloaded image using Pillow\n",
    "    image_data = BytesIO(response.content)  # Create an in-memory binary stream from the response content\n",
    "    img = Image.open(image_data)  # Open the image using Pillow\n",
    "\n",
    "    # Perform image processing tasks here, like resizing or applying filters\n",
    "    img = img.resize((x, y))  # Resize the image and replace x,y with desired amounts\n",
    "\n",
    "    # Step 3: Save the processed image using Pillow\n",
    "    img.save(\"processed_image.jpg\")  # Save the processed image to a file\n",
    "\n",
    "    print(\"Image downloaded, processed, and saved.\")\n",
    "else:\n",
    "    print(f\"Failed to download image. Status code: {response.status_code}\")\n"
   ]
  },
  {
   "cell_type": "markdown",
   "metadata": {},
   "source": [
    "In this code, we use the Requests library to download an image from a URL and then if the download is successful the HTTP status code 200 will pop up, and from there we create an in-memory binary stream (BytesIO) from the response content. We then use the Pillow library to open the image, make any necessary changes, and save the processed image to a file.\n",
    "\n",
    "Here's a step by step tutorial on how we wrote this code: \n",
    "1)We started by importing the necessary libraries, which were Requests, Pillow, and io.\n",
    "\n",
    "2)Download the Image\n",
    "\n",
    "3)Use the Requests library to send an HTTP GET request to the URL to download the image.\n",
    "Check the response status code to make sure the download goes through(status code 200).\n",
    "\n",
    "4)If the download is successful, create an in-memory binary stream (BytesIO) from the response content.\n",
    "Process the Image:\n",
    "\n",
    "5)Utilize the Pillow library to open the image from the binary stream.\n",
    "Change photo to desired preference(ie: size)\n",
    "Save the Processed Image:\n",
    "\n",
    "6)Save the processed image to a file using Pillow. Choose a filename and file format for the saved image.\n",
    "\n",
    "\n"
   ]
  },
  {
   "cell_type": "markdown",
   "metadata": {},
   "source": [
    "### Hack 1"
   ]
  },
  {
   "cell_type": "markdown",
   "metadata": {},
   "source": [
    "Write a Python code that accomplishes the following tasks:\n",
    "\n",
    "Downloads an image from a specified URL using the Requests library.\n",
    "Processes the downloaded image (like resizing) using the Pillow library.\n",
    "Save the processed image to a file.\n"
   ]
  },
  {
   "cell_type": "code",
   "execution_count": 9,
   "metadata": {},
   "outputs": [
    {
     "name": "stdout",
     "output_type": "stream",
     "text": [
      "Random image downloaded and saved.\n"
     ]
    }
   ],
   "source": [
    "import requests\n",
    "from PIL import Image\n",
    "from io import BytesIO\n",
    "\n",
    "# Step 1: Download a random image using Requests\n",
    "image_url = \"https://source.unsplash.com/random\"  # Use a source that provides random images\n",
    "response = requests.get(image_url)\n",
    "\n",
    "if response.status_code == 200:\n",
    "    # Step 2: Process the downloaded image using Pillow\n",
    "    image_data = BytesIO(response.content)  # Create an in-memory binary stream from the response content\n",
    "    img = Image.open(image_data)  # Open the image using Pillow\n",
    "\n",
    "    # Perform image processing tasks here, like resizing or applying filters\n",
    "    img = img.resize((200, 400))  # Resize the image and replace with desired dimensions\n",
    "\n",
    "    img.save(\"processed_image.jpg\")  # Save the processed image to a file\n",
    "\n",
    "    print(\"Random image downloaded and saved.\")\n",
    "else:\n",
    "    print(f\"Failed to download image. Status code: {response.status_code}\")"
   ]
  },
  {
   "cell_type": "markdown",
   "metadata": {},
   "source": [
    "### Math Operations With Python Libraries\n",
    "Numpy(Numerical Python) is used for numerical and scientific computing. It provides tools for handling large sets of numbers, such as data tables and arrays. Numpy makes it easier and more efficient to do mathematical tasks. \n",
    "\n",
    "The Matplotlib library lets you create a visual representation of your data (graphs, charts, and etc.)"
   ]
  },
  {
   "cell_type": "markdown",
   "metadata": {},
   "source": [
    "### Example Sine Graph\n",
    "Uses numpy and matplotlib libaries"
   ]
  },
  {
   "cell_type": "code",
   "execution_count": null,
   "metadata": {},
   "outputs": [],
   "source": [
    "import numpy as np\n",
    "import matplotlib.pyplot as plt\n",
    "\n",
    "# Generate sample data with NumPy\n",
    "x = np.linspace(0, 2 * np.pi, 100) \n",
    "# Create an array of values from 0 to 2*pi\n",
    "# 100 is included to have 100 points distributed between 0 and 2π to make graph smoother\n",
    "y = np.sin(x)\n",
    "# Compute the sine of each value\n",
    "\n",
    "# Create a simple line plot using Matplotlib\n",
    "plt.plot(x, y, label='Sine Function', color='blue', linestyle='-')  # Create the plot\n",
    "plt.title('Sine Function')  # Set the title\n",
    "plt.xlabel('x')  # Label for the x-axis\n",
    "plt.ylabel('sin(x)')  # Label for the y-axis\n",
    "plt.grid(True)  # Display a grid\n",
    "plt.legend()  # Show the legend\n",
    "plt.show()  # Display the plot\n"
   ]
  },
  {
   "cell_type": "markdown",
   "metadata": {},
   "source": [
    "### Hack 2\n",
    "Using the data from the numpy library, create a visual graph using different matplotlib functions."
   ]
  },
  {
   "cell_type": "code",
   "execution_count": 7,
   "metadata": {},
   "outputs": [
    {
     "data": {
      "image/png": "[encoded data removed]",
      "text/plain": [
       "<Figure size 432x288 with 1 Axes>"
      ]
     },
     "metadata": {
      "needs_background": "light"
     },
     "output_type": "display_data"
    }
   ],
   "source": [
    "import numpy as np\n",
    "import matplotlib.pyplot as plt\n",
    "\n",
    "# Generate data for two lines\n",
    "x = np.linspace(0, 10, 50)  # Create an array of values from 0 to 10\n",
    "y1 = 2 * x + 1  # Set of data poits\n",
    "\n",
    "# Create and display a plot using Matplotlib\n",
    "\n",
    "# your code here\n",
    "plt.plot(x, y1, label='Line Function', color='red', linestyle='-')  # Create the plot\n",
    "plt.title('Line Function')  # Set the title\n",
    "plt.xlabel('x')  # Label for the x-axis\n",
    "plt.ylabel('y')  # Label for the y-axis\n",
    "plt.grid(True)  # Display a grid\n",
    "plt.legend()  # Show the legend\n",
    "plt.show()  # Display the plot"
   ]
  },
  {
   "cell_type": "markdown",
   "metadata": {},
   "source": [
    "Tensor Flow is used in deep learning and neural networks, while scikit-learn is used for typical machine learning tasks. When used together, they can tackle machine learning projects. In the code below, Tensor Flow is used for model creation and training. Scikit-learn is used for data-processing and model evaluation."
   ]
  },
  {
   "cell_type": "markdown",
   "metadata": {},
   "source": [
    "## Pip install tensorflow scikit-learn"
   ]
  },
  {
   "cell_type": "code",
   "execution_count": null,
   "metadata": {},
   "outputs": [],
   "source": [
    "import numpy as np\n",
    "import tensorflow as tf\n",
    "from sklearn.model_selection import train_test_split\n",
    "from sklearn.metrics import mean_squared_error\n",
    "from sklearn.preprocessing import StandardScaler\n",
    "from tensorflow import keras\n",
    "from tensorflow.keras import layers\n",
    "# Generate synthetic data\n",
    "np.random.seed(0)\n",
    "X = np.random.rand(100, 1)  # Feature\n",
    "y = 2 * X + 1 + 0.1 * np.random.randn(100, 1)  # Target variable with noise\n",
    "# Split the data into training and testing sets\n",
    "X_train, X_test, y_train, y_test = train_test_split(X, y, test_size=0.2, random_state=42)\n",
    "# Standardize the features\n",
    "scaler = StandardScaler()\n",
    "X_train = scaler.fit_transform(X_train)\n",
    "X_test = scaler.transform(X_test)\n",
    "# Create a simple linear regression model using TensorFlow and Keras\n",
    "model = keras.Sequential([\n",
    "    layers.Input(shape=(1,)),\n",
    "    layers.Dense(1)\n",
    "])\n",
    "# Compile the model\n",
    "model.compile(optimizer='adam', loss='mean_squared_error')\n",
    "# Train the model\n",
    "model.fit(X_train, y_train, epochs=100, batch_size=32, verbose=2)\n",
    "# Make predictions on the test set\n",
    "y_pred = model.predict(X_test)\n",
    "# Calculate the Mean Squared Error on the test set\n",
    "mse = mean_squared_error(y_test, y_pred)\n",
    "print(f\"Mean Squared Error: {mse:.4f}\")"
   ]
  },
  {
   "cell_type": "markdown",
   "metadata": {},
   "source": [
    "A decrease in loss and time metrics (ms/epoch and ms/step) shows the efficiency increases as the training epochs increases"
   ]
  },
  {
   "cell_type": "markdown",
   "metadata": {},
   "source": [
    "## Hack\n",
    "fill in the missing code to match the custom data set"
   ]
  },
  {
   "cell_type": "code",
   "execution_count": 18,
   "metadata": {},
   "outputs": [
    {
     "name": "stderr",
     "output_type": "stream",
     "text": [
      "/usr/lib/python3/dist-packages/scipy/__init__.py:146: UserWarning: A NumPy version >=1.17.3 and <1.25.0 is required for this version of SciPy (detected version 1.26.1\n",
      "  warnings.warn(f\"A NumPy version >={np_minversion} and <{np_maxversion}\"\n",
      "2023-10-26 17:34:56.876652: I tensorflow/tsl/cuda/cudart_stub.cc:28] Could not find cuda drivers on your machine, GPU will not be used.\n",
      "2023-10-26 17:34:58.111785: E tensorflow/compiler/xla/stream_executor/cuda/cuda_dnn.cc:9342] Unable to register cuDNN factory: Attempting to register factory for plugin cuDNN when one has already been registered\n",
      "2023-10-26 17:34:58.111839: E tensorflow/compiler/xla/stream_executor/cuda/cuda_fft.cc:609] Unable to register cuFFT factory: Attempting to register factory for plugin cuFFT when one has already been registered\n",
      "2023-10-26 17:34:58.117128: E tensorflow/compiler/xla/stream_executor/cuda/cuda_blas.cc:1518] Unable to register cuBLAS factory: Attempting to register factory for plugin cuBLAS when one has already been registered\n",
      "2023-10-26 17:34:58.799744: I tensorflow/tsl/cuda/cudart_stub.cc:28] Could not find cuda drivers on your machine, GPU will not be used.\n",
      "2023-10-26 17:34:58.808703: I tensorflow/core/platform/cpu_feature_guard.cc:182] This TensorFlow binary is optimized to use available CPU instructions in performance-critical operations.\n",
      "To enable the following instructions: AVX2 FMA, in other operations, rebuild TensorFlow with the appropriate compiler flags.\n",
      "2023-10-26 17:35:02.755505: W tensorflow/compiler/tf2tensorrt/utils/py_utils.cc:38] TF-TRT Warning: Could not find TensorRT\n"
     ]
    },
    {
     "ename": "NameError",
     "evalue": "name 'X' is not defined",
     "output_type": "error",
     "traceback": [
      "\u001b[0;31m---------------------------------------------------------------------------\u001b[0m",
      "\u001b[0;31mNameError\u001b[0m                                 Traceback (most recent call last)",
      "\u001b[0;32m/tmp/ipykernel_2450/1101574954.py\u001b[0m in \u001b[0;36m<module>\u001b[0;34m\u001b[0m\n\u001b[1;32m     11\u001b[0m \u001b[0;34m\u001b[0m\u001b[0m\n\u001b[1;32m     12\u001b[0m \u001b[0;31m# Split the data into training and testing sets\u001b[0m\u001b[0;34m\u001b[0m\u001b[0;34m\u001b[0m\u001b[0m\n\u001b[0;32m---> 13\u001b[0;31m \u001b[0mX_train\u001b[0m\u001b[0;34m,\u001b[0m \u001b[0mX_test\u001b[0m\u001b[0;34m,\u001b[0m \u001b[0my_train\u001b[0m\u001b[0;34m,\u001b[0m \u001b[0my_test\u001b[0m \u001b[0;34m=\u001b[0m \u001b[0mtrain_test_split\u001b[0m\u001b[0;34m(\u001b[0m\u001b[0mX\u001b[0m\u001b[0;34m,\u001b[0m \u001b[0my\u001b[0m\u001b[0;34m,\u001b[0m \u001b[0mtest_size\u001b[0m\u001b[0;34m=\u001b[0m\u001b[0;36m0.2\u001b[0m\u001b[0;34m,\u001b[0m \u001b[0mrandom_state\u001b[0m\u001b[0;34m=\u001b[0m\u001b[0;36m0\u001b[0m\u001b[0;34m)\u001b[0m\u001b[0;34m\u001b[0m\u001b[0;34m\u001b[0m\u001b[0m\n\u001b[0m\u001b[1;32m     14\u001b[0m \u001b[0;34m\u001b[0m\u001b[0m\n\u001b[1;32m     15\u001b[0m \u001b[0;31m# Standardize the features\u001b[0m\u001b[0;34m\u001b[0m\u001b[0;34m\u001b[0m\u001b[0m\n",
      "\u001b[0;31mNameError\u001b[0m: name 'X' is not defined"
     ]
    }
   ],
   "source": [
    "# Import necessary libraries\n",
    "import numpy as np\n",
    "from sklearn.model_selection import train_test_split\n",
    "from sklearn.preprocessing import StandardScaler\n",
    "from sklearn.metrics import mean_squared_error\n",
    "import tensorflow as tf\n",
    "from tensorflow import keras\n",
    "from tensorflow.keras import layers\n",
    "\n",
    "# Assuming you have X and y defined, your data\n",
    "\n",
    "# Split the data into training and testing sets\n",
    "X_train, X_test, y_train, y_test = train_test_split(X, y, test_size=0.2, random_state=0)\n",
    "\n",
    "# Standardize the features\n",
    "sc = StandardScaler()\n",
    "X_train = sc.fit_transform(X_train)\n",
    "X_test = sc.transform(X_test)\n",
    "\n",
    "# Create a regression model using TensorFlow and Keras\n",
    "model = keras.Sequential()\n",
    "model.add(layers.Dense(10, input_shape=(X_train.shape[1],), activation='relu'))  # Adjust input shape to match the number of features\n",
    "model.add(layers.Dense(1, activation='linear'))\n",
    "\n",
    "# Compile the model for regression\n",
    "model.compile(optimizer='adam', loss='mean_squared_error')  # Use 'mean_squared_error' for the loss\n",
    "\n",
    "# Train the model\n",
    "model.fit(X_train, y_train, epochs=100)\n",
    "\n",
    "# Make predictions on the test set\n",
    "y_pred = model.predict(X_test)\n",
    "\n",
    "# Calculate the Mean Squared Error on the test set\n",
    "mse = mean_squared_error(y_test, y_pred)\n",
    "print(f\"Mean Squared Error on Test Set: {mse:.2f}\")\n",
    "\n"
   ]
  },
  {
   "cell_type": "markdown",
   "metadata": {},
   "source": [
    "## HOMEWORK 1\n",
    "\n",
    "Create a GPA calculator using Pandas and Matplot libraries and make:\n",
    "1) A dataframe\n",
    "2) A specified dictionary\n",
    "3) and a print function that outputs the final GPA\n",
    "\n",
    "Extra points can be earned with creativity."
   ]
  },
  {
   "cell_type": "code",
   "execution_count": 10,
   "metadata": {},
   "outputs": [
    {
     "data": {
      "image/png": "[encoded data removed]",
      "text/plain": [
       "<Figure size 432x288 with 1 Axes>"
      ]
     },
     "metadata": {
      "needs_background": "light"
     },
     "output_type": "display_data"
    },
    {
     "name": "stdout",
     "output_type": "stream",
     "text": [
      "\n",
      "Grades Entered:\n",
      "  Grade  Points\n",
      "0     A       4\n",
      "1     A       4\n",
      "2     A       4\n",
      "3     B       3\n",
      "4     A       4\n",
      "\n",
      "Your GPA is: 3.80\n"
     ]
    }
   ],
   "source": [
    "import pandas as pd\n",
    "import matplotlib.pyplot as plt\n",
    "\n",
    "#class numbers\n",
    "classcount = int(input(\"Enter the number of classes: \"))\n",
    "\n",
    "#List to store the grades\n",
    "grades = []\n",
    "\n",
    "#User input + data frame and dicitonary \n",
    "for i in range(1, classcount + 1):\n",
    "    grade = input(f\"Enter the grade for Class {i} (A, B, C, D, F): \")\n",
    "    grades.append(grade)\n",
    "grades_data = pd.DataFrame({'Grade': grades})\n",
    "grade_points = {'A': 4, 'B': 3, 'C': 2, 'D': 1, 'F': 0}\n",
    "\n",
    "#calculate\n",
    "grades_data['Points'] = grades_data['Grade'].map(grade_points)\n",
    "gpa = grades_data['Points'].mean()\n",
    "\n",
    "#printer\n",
    "def print_final_gpa():\n",
    "    print(\"\\nGrades Entered:\")\n",
    "    print(grades_data)\n",
    "    print(\"\\nYour GPA is: {:.2f}\".format(gpa))\n",
    "\n",
    "#Display the bar plot of grades\n",
    "grades_data['Points'].plot(kind='bar', color='skyblue')\n",
    "plt.xlabel('Classes')\n",
    "plt.ylabel('Grade Points')\n",
    "plt.title('Grades for Each Class')\n",
    "plt.xticks(ticks=range(len(grades_data)), labels=[f\"Class {i}\" for i in range(1, classcount + 1)])\n",
    "plt.tight_layout()\n",
    "plt.show()\n",
    "\n",
    "#Call the function to print the final GPA\n",
    "print_final_gpa()\n"
   ]
  },
  {
   "cell_type": "markdown",
   "metadata": {},
   "source": [
    "## HOMEWORK 2\n",
    "\n",
    "Import and use the \"random\" library to generate 50 different points from the range 0-100, then display the randomized data using a scatter plot.\n",
    "\n",
    "Extra points can be earned with creativity."
   ]
  },
  {
   "cell_type": "code",
   "execution_count": 11,
   "metadata": {},
   "outputs": [
    {
     "data": {
      "image/png": "[encoded data removed]",
      "text/plain": [
       "<Figure size 576x432 with 1 Axes>"
      ]
     },
     "metadata": {
      "needs_background": "light"
     },
     "output_type": "display_data"
    }
   ],
   "source": [
    "import matplotlib.pyplot as plt\n",
    "import random\n",
    "\n",
    "#random x and y coordinates\n",
    "x = [random.randint(0, 100) for _ in range(50)]\n",
    "y = [random.randint(0, 100) for _ in range(50)]\n",
    "\n",
    "#random color palette (da creativity)\n",
    "colors = [random.choice(['#FF5733', '#33FF57', '#3388FF', '#A033FF', '#FF3388']) for _ in range(50)]\n",
    "\n",
    "#random point selection using markers\n",
    "markers = ['o', 's', '^', 'D', 'x'] * 10\n",
    "\n",
    "#scatter plot\n",
    "plt.figure(figsize=(8, 6))\n",
    "plt.scatter(x, y, c=colors, s=100, marker=random.choice(markers), edgecolors='black', alpha=0.7)\n",
    "\n",
    "#display and labels\n",
    "plt.title('Randomized Data Scatter Plot', fontsize=16)\n",
    "plt.xlabel('X-axis', fontsize=12)\n",
    "plt.ylabel('Y-axis', fontsize=12)\n",
    "plt.grid(True)\n",
    "plt.tight_layout()\n",
    "plt.show()\n"
   ]
  }
 ],
 "metadata": {
  "kernelspec": {
   "display_name": "Python 3",
   "language": "python",
   "name": "python3"
  },
  "language_info": {
   "codemirror_mode": {
    "name": "ipython",
    "version": 3
   },
   "file_extension": ".py",
   "mimetype": "text/x-python",
   "name": "python",
   "nbconvert_exporter": "python",
   "pygments_lexer": "ipython3",
   "version": "3.10.12"
  }
 },
 "nbformat": 4,
 "nbformat_minor": 2
}
