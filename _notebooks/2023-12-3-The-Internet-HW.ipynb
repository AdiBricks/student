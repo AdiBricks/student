{
 "cells": [
  {
   "cell_type": "markdown",
   "metadata": {},
   "source": [
    "---\n",
    "toc: true\n",
    "comments: true\n",
    "layout: post\n",
    "title: The Internet HW\n",
    "description: Big Idea 4.1 Student Teaching | Ian, Hayden, Srijan, Ryan\n",
    "type: hacks\n",
    "courses: { csp: {week: 14} }\n",
    "---"
   ]
  },
  {
   "cell_type": "markdown",
   "metadata": {},
   "source": [
    "## Homework Questions\n",
    "\n",
    "### IP Addresses\n",
    "\n",
    "1. Which of the following IP Addresses are possible? Explain (yes/no) for each answer choice.\n",
    "   - 1.1.1.1.1: No, 5 dif numbers, not 4\n",
    "   - 23.23.23.23: Yes, each number is in the range 0-255 and all seperated by periods\n",
    "   - 134.492.100.0: No, 492 is over 255 \n",
    "   - 255.256.55.255: No, 256 is over 255\n",
    "   - 2.93.255.19: Yes, each number is in the range 0-255 and all seperated by periods\n",
    "\n",
    "2. If Dian Du is at home on his home network and sends a message to every computer on the network, what is this an example of? Explain.\n",
    "   - Multicast\n",
    "   - Unicast\n",
    "   - ##### Broadcast - because ot send to all devices, LAN wide, \n",
    "\n",
    "### Models\n",
    "\n",
    "1. Three of the four following protocols are on the same layer. Identify which ones and what layer they are on, and why they are on each layer:\n",
    "- ASCII (see above for information)\n",
    "- ##### FTP (facilitates the transfer of files over the internet) (TRANSFER LAYER)\n",
    "- ##### TLS (see HTTPS section) (TRANSFER LAYER)\n",
    "- ##### USB (permits data exchange between electronics) (TRANSFER LAYER)\n",
    "2. Telnet is an internet protocol that allows remote access to other computers over a local network or the internet. What layer of the OSI model would this protocol be located on? What is the function of this layer?\n",
    "Application, since its \"User Interaction, like resource sharing\"\n",
    "\n",
    "### DNS\n",
    "\n",
    "1. Bob wants to use the domain bob.is.the.best.com. What domain should he buy from a DNS provider (assume it is available)? What would be the subdomains?\n",
    "main domain will be: best.com\n",
    "subdomains will be: is.the.best.com, the.best.com, bob.is.the.best.com\n",
    "\n",
    "### HTTP and HTTPS\n",
    "\n",
    "1. What is a difference between HTTP and HTTPS?\n",
    "   - What protocol does HTTPS use that HTTP doesn't?\n",
    "   HTTPS adds a layer of security by incorporating SSL/TLS (Secure Sockets Layer/Transport Layer Security) encryption that ensures the data exchanged between the user and the website is encrypted, making it hard to intercept or tamper with.\n",
    "2. Last trimester, we sent HTTP requests for our passion projects\n",
    "   - Did we use HTTP or HTTPS?\n",
    "   HTTPS\n",
    "   - What are the benefits and disadvantages of this?\n",
    "    Benefits: More secure than HTTP\n",
    "    Disadvantages: Site can run slower\n",
    "\n",
    "### TCP and UDP\n",
    "\n",
    "1. Bob is setting up a video streaming service, and he needs the stream to be real-time.\n",
    "   - What protocol should he use, TCP or UDP? Why?\n",
    "   UDP, because its faster and actually can provide a real time stream since its faster, even tho it might not be perfect. \n",
    "   - What are some cons of this protocol? Give an example of a potential issue.\n",
    "   UDP most likely wont provide in great quality or latency, but it will be able to provide quickly. If theres enough money involed, TCP could still be a pretty good option, but it wont livestream as fast. \n",
    "2. TCP has error checking, which ensures that all packets arrive properly. Why is this important?\n",
    "   - Give an example of how TCP ensures that there are no errors.\n",
    "   TCP uses the ACKs system to confirm that the user recieves the message coming from the sender. \n",
    "3. Server A computer is communicating with Server B. They have already initiated communication, and Server A is now attempting to send data to Server B.\n",
    "   - How does Server B ensure that they have received any sent packets before Server A continues sending packets in TCP? In UDP?\n",
    "   TCP will use the ACKs system to check that the message sent has been recieved by the reciever. In UDP there is no check that the message has been properly sent. \n",
    "   - What is another use of this?\n",
    "   It lets one know that their message was recieved by the user, which helps when theres faulty internet, or a streaming service or Youtube channel knowing that their content has been uploaded."
   ]
  },
  {
   "cell_type": "code",
   "execution_count": 2,
   "metadata": {},
   "outputs": [
    {
     "name": "stdout",
     "output_type": "stream",
     "text": [
      "Valid IP address.\n"
     ]
    }
   ],
   "source": [
    "def is_valid_ip(ip):\n",
    "    # Split the IP address into octets\n",
    "    octets = ip.split('.')\n",
    "\n",
    "    # Check if there are exactly 4 octets\n",
    "    if len(octets) != 4:\n",
    "        return False\n",
    "\n",
    "    # Check if each octet is a number between 0 and 255\n",
    "    for octet in octets:\n",
    "        if not octet.isdigit() or not 0 <= int(octet) <= 255:\n",
    "            return False\n",
    "\n",
    "    return True\n",
    "\n",
    "def main():\n",
    "    ip_address = input(\"Enter an IP address: \")\n",
    "\n",
    "    if is_valid_ip(ip_address):\n",
    "        print(\"Valid IP address.\")\n",
    "    else:\n",
    "        print(\"Invalid IP address. Please enter a valid IP.\")\n",
    "\n",
    "if __name__ == \"__main__\":\n",
    "    main()\n",
    "\n",
    "\n"
   ]
  }
 ],
 "metadata": {
  "kernelspec": {
   "display_name": "Python 3",
   "language": "python",
   "name": "python3"
  },
  "language_info": {
   "codemirror_mode": {
    "name": "ipython",
    "version": 3
   },
   "file_extension": ".py",
   "mimetype": "text/x-python",
   "name": "python",
   "nbconvert_exporter": "python",
   "pygments_lexer": "ipython3",
   "version": "3.10.12"
  },
  "orig_nbformat": 4
 },
 "nbformat": 4,
 "nbformat_minor": 2
}
